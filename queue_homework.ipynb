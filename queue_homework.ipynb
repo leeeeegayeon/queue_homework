{
  "nbformat": 4,
  "nbformat_minor": 0,
  "metadata": {
    "colab": {
      "provenance": [],
      "authorship_tag": "ABX9TyNcbAABo/OyawwbuAlnUTym",
      "include_colab_link": true
    },
    "kernelspec": {
      "name": "python3",
      "display_name": "Python 3"
    },
    "language_info": {
      "name": "python"
    }
  },
  "cells": [
    {
      "cell_type": "markdown",
      "metadata": {
        "id": "view-in-github",
        "colab_type": "text"
      },
      "source": [
        "<a href=\"https://colab.research.google.com/github/leeeeegayeon/queue_homework/blob/main/queue_homework.ipynb\" target=\"_parent\"><img src=\"https://colab.research.google.com/assets/colab-badge.svg\" alt=\"Open In Colab\"/></a>"
      ]
    },
    {
      "cell_type": "markdown",
      "source": [],
      "metadata": {
        "id": "BzyySG8sxgl8"
      }
    },
    {
      "cell_type": "markdown",
      "source": [
        "# 1. LeetCode 225\n"
      ],
      "metadata": {
        "id": "fVLznVlNxjDZ"
      }
    },
    {
      "cell_type": "code",
      "source": [
        "from collections import deque\n",
        "\n",
        "class MyStack:\n",
        "    def __init__(self):\n",
        "        self.q = deque()\n",
        "\n",
        "    def push(self, x):\n",
        "        self.q.append(x)\n",
        "        for _ in range(len(self.q) - 1):\n",
        "            self.q.append(self.q.popleft())\n",
        "\n",
        "    def pop(self):\n",
        "        return self.q.popleft()\n",
        "\n",
        "    def top(self):\n",
        "        return self.q[0]\n",
        "\n",
        "    def empty(self):\n",
        "        return not self.q\n"
      ],
      "metadata": {
        "id": "OVoZdNsQyA2_"
      },
      "execution_count": null,
      "outputs": []
    },
    {
      "cell_type": "markdown",
      "source": [
        "#2. Leetcode 232"
      ],
      "metadata": {
        "id": "2Fsmz3o2CR0d"
      }
    },
    {
      "cell_type": "code",
      "source": [
        "class MyQueue:\n",
        "\n",
        "    def __init__(self):\n",
        "        self.in_stack = []\n",
        "        self.out_stack = []\n",
        "\n",
        "    def push(self, x):\n",
        "        self.in_stack.append(x)\n",
        "\n",
        "    def pop(self):\n",
        "        self.peek()\n",
        "        return self.out_stack.pop()\n",
        "\n",
        "    def peek(self):\n",
        "        if not self.out_stack:\n",
        "            while self.in_stack:\n",
        "                self.out_stack.append(self.in_stack.pop())\n",
        "        return self.out_stack[-1]\n",
        "\n",
        "    def empty(self):\n",
        "        return not self.in_stack and not self.out_stack\n"
      ],
      "metadata": {
        "id": "FucCWxodCivq"
      },
      "execution_count": null,
      "outputs": []
    },
    {
      "cell_type": "markdown",
      "source": [
        "#3. Chapter 7"
      ],
      "metadata": {
        "id": "l_IMpCJqDPw3"
      }
    },
    {
      "cell_type": "markdown",
      "source": [
        "3.1"
      ],
      "metadata": {
        "id": "VTy_ufOJD7kC"
      }
    },
    {
      "cell_type": "code",
      "source": [
        "class ListQueue:\n",
        "    def __init__(self):\n",
        "        self.__queue = []\n",
        "\n",
        "    def enqueue(self, x):\n",
        "        self.__queue.insert(0, x)\n",
        "\n",
        "    def dequeue(self):\n",
        "        return self.__queue.pop()\n",
        "\n",
        "    def front(self):\n",
        "        if self.isEmpty():\n",
        "            return None\n",
        "        return self.__queue[-1]\n",
        "\n",
        "    def isEmpty(self) -> bool:\n",
        "        return len(self.__queue) == 0\n",
        "\n",
        "    def dequeueAll(self):\n",
        "        self.__queue.clear()"
      ],
      "metadata": {
        "id": "0ADrpKQaEHtJ"
      },
      "execution_count": 1,
      "outputs": []
    },
    {
      "cell_type": "markdown",
      "source": [
        "3.2"
      ],
      "metadata": {
        "id": "CFzB4yYaD9K4"
      }
    },
    {
      "cell_type": "code",
      "source": [
        "from collections import deque\n",
        "\n",
        "def is_in_language(s):\n",
        "    q = deque()\n",
        "    i = 0\n",
        "\n",
        "    while i < len(s) and s[i] != '$':\n",
        "        q.append(s[i])\n",
        "        i += 1\n",
        "\n",
        "    if i == len(s):\n",
        "        return False\n",
        "\n",
        "    i += 1\n",
        "\n",
        "    while i < len(s):\n",
        "        if not q or s[i] != q.pop():\n",
        "            return False\n",
        "        i += 1\n",
        "\n",
        "    return len(q) == 0\n",
        "\n",
        "print(is_in_language(\"abc$cba\"))\n",
        "print(is_in_language(\"abc$abc\"))\n",
        "print(is_in_language(\"a$a\"))\n",
        "print(is_in_language(\"ab$ba\"))"
      ],
      "metadata": {
        "id": "lflz0yq4F6-3"
      },
      "execution_count": null,
      "outputs": []
    },
    {
      "cell_type": "markdown",
      "source": [
        "3.3"
      ],
      "metadata": {
        "id": "M-FzVbuzD-du"
      }
    },
    {
      "cell_type": "code",
      "source": [
        "def copyQueue(a):\n",
        "    b = LinkedQueue()\n",
        "    temp = LinkedQueue()\n",
        "\n",
        "    while not a.isEmpty():\n",
        "        item = a.dequeue()\n",
        "        b.enqueue(item)\n",
        "        temp.enqueue(item)\n",
        "\n",
        "    while not temp.isEmpty():\n",
        "        a.enqueue(temp.dequeue())\n",
        "\n",
        "    return b"
      ],
      "metadata": {
        "id": "psK_IR10F_1M"
      },
      "execution_count": null,
      "outputs": []
    },
    {
      "cell_type": "markdown",
      "source": [
        "3.4"
      ],
      "metadata": {
        "id": "R9SkakMMD_VC"
      }
    },
    {
      "cell_type": "code",
      "source": [
        "def push(x):\n",
        "    q1.enqueue(x)\n",
        "\n",
        "def pop():\n",
        "    while q1.size() > 1:\n",
        "        q2.enqueue(q1.dequeue())\n",
        "    x = q1.dequeue()\n",
        "    swap(q1, q2)\n",
        "    return x"
      ],
      "metadata": {
        "id": "TcKnAi2zGChF"
      },
      "execution_count": null,
      "outputs": []
    },
    {
      "cell_type": "markdown",
      "source": [
        "3.5"
      ],
      "metadata": {
        "id": "rwL0ClzkEAD_"
      }
    },
    {
      "cell_type": "code",
      "source": [
        "def enqueue(x):\n",
        "    s1.push(x)\n",
        "\n",
        "def dequeue():\n",
        "    if s2.isEmpty():\n",
        "        while not s1.isEmpty():\n",
        "            s2.push(s1.pop())\n",
        "    return s2.pop()"
      ],
      "metadata": {
        "id": "WREo2EFMGF0J"
      },
      "execution_count": null,
      "outputs": []
    },
    {
      "cell_type": "markdown",
      "source": [
        "3.6"
      ],
      "metadata": {
        "id": "Sv7OmgwWEA4u"
      }
    },
    {
      "cell_type": "markdown",
      "source": [
        "큐를 deque를 이용하여 가장 효율적으로 구현한 경우, 큐의 크기가 n일 때 enqueue()와 dequeue() 연산은 모두 O(1)의 시간에 수행된다."
      ],
      "metadata": {
        "id": "yTeERFQAGMJE"
      }
    },
    {
      "cell_type": "markdown",
      "source": [
        "3.7"
      ],
      "metadata": {
        "id": "qRcHXKCLEDDZ"
      }
    },
    {
      "cell_type": "markdown",
      "source": [
        "enqueue()는 O(n), dequeue()는 O(1)의 시간에 수행된다."
      ],
      "metadata": {
        "id": "Xmup_ZpEGOgt"
      }
    },
    {
      "cell_type": "markdown",
      "source": [
        "3.8"
      ],
      "metadata": {
        "id": "04z0X5fAEEVn"
      }
    },
    {
      "cell_type": "code",
      "source": [
        "class Deque:\n",
        "    def __init__(self):\n",
        "        self.__queue = []\n",
        "\n",
        "    def enqueueRear(self, x):\n",
        "        self.__queue.append(x)\n",
        "\n",
        "    def enqueueFront(self, x):\n",
        "        self.__queue.insert(0, x)\n",
        "\n",
        "    def dequeueFront(self):\n",
        "        if self.isEmpty():\n",
        "            return None\n",
        "        return self.__queue.pop(0)\n",
        "\n",
        "    def dequeueRear(self):\n",
        "        if self.isEmpty():\n",
        "            return None\n",
        "        return self.__queue.pop()\n",
        "\n",
        "    def front(self):\n",
        "        if self.isEmpty():\n",
        "            return None\n",
        "        return self.__queue[0]\n",
        "\n",
        "    def rear(self):\n",
        "        if self.isEmpty():\n",
        "            return None\n",
        "        return self.__queue[-1]\n",
        "\n",
        "    def isEmpty(self) -> bool:\n",
        "        return len(self.__queue) == 0\n",
        "\n",
        "    def dequeueAll(self):\n",
        "        self.__queue.clear()\n",
        "\n",
        "    def printQueue(self):\n",
        "        print(\"Queue from front:\", end=' ')\n",
        "        for item in self.__queue:\n",
        "            print(item, end=' ')\n",
        "        print()\n"
      ],
      "metadata": {
        "id": "FsRDZ_lAGQ-l"
      },
      "execution_count": null,
      "outputs": []
    }
  ]
}